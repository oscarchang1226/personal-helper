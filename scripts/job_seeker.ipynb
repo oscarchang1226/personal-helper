{
 "cells": [
  {
   "cell_type": "code",
   "execution_count": null,
   "metadata": {},
   "outputs": [],
   "source": [
    "import os\n",
    "from dotenv import load_dotenv\n",
    "from typing import List, TypeVar\n",
    "import json\n",
    "import requests\n",
    "from bs4 import BeautifulSoup\n",
    "\n",
    "load_dotenv()\n",
    "\n",
    "def scrape_html(url):\n",
    "    try:\n",
    "        response = requests.get(url)\n",
    "        response.raise_for_status()  # Check if the request was successful\n",
    "        html_content = response.text\n",
    "        soup = BeautifulSoup(html_content, 'html.parser')\n",
    "        return soup\n",
    "    except requests.exceptions.RequestException as e:\n",
    "        print(f\"Error fetching the URL: {e}\")\n",
    "        return None\n",
    "    \n",
    "def extract_text_from_path(soup, path):\n",
    "    element = soup.select_one(path)\n",
    "    if element:\n",
    "        return element.get_text(separator=' ', strip=True)\n",
    "    else:\n",
    "        return None\n",
    "    \n",
    "def load_jobs() -> List:\n",
    "    res = []\n",
    "    with open(os.environ['JOBS_FILE'], 'r') as f:\n",
    "        res = json.load(f)\n",
    "\n",
    "    return res"
   ]
  },
  {
   "cell_type": "code",
   "execution_count": null,
   "metadata": {},
   "outputs": [],
   "source": [
    "class Job:\n",
    "    @staticmethod\n",
    "    def from_url(url, header_path, description_path):\n",
    "        soup = scrape_html(url)\n",
    "        if soup:\n",
    "            title = extract_text_from_path(soup, header_path)\n",
    "            description = extract_text_from_path(soup, description_path)\n",
    "            return Job(title=title, description=description, url=url)\n",
    "        return None\n",
    "\n",
    "    def __init__(self, title=None, description=None, company=None, url=None):\n",
    "        self.title = title\n",
    "        self.description = description\n",
    "        self.company = company\n",
    "        self.url = url\n",
    "\n",
    "    def to_dict(self):\n",
    "        return {\n",
    "            'title': self.title,\n",
    "            'description': self.description,\n",
    "            'company': self.company,\n",
    "            'url': self.url\n",
    "        }\n",
    "\n",
    "class JobList(List[Job]):\n",
    "    pass\n",
    "    \n",
    "    "
   ]
  }
 ],
 "metadata": {
  "kernelspec": {
   "display_name": "personal-helper",
   "language": "python",
   "name": "python3"
  },
  "language_info": {
   "codemirror_mode": {
    "name": "ipython",
    "version": 3
   },
   "file_extension": ".py",
   "mimetype": "text/x-python",
   "name": "python",
   "nbconvert_exporter": "python",
   "pygments_lexer": "ipython3",
   "version": "3.12.2"
  }
 },
 "nbformat": 4,
 "nbformat_minor": 2
}
